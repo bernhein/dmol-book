{
 "cells": [
  {
   "cell_type": "markdown",
   "metadata": {},
   "source": [
    "# Equvariant Neural Networks\n",
    "\n",
    "```{danger}\n",
    "This chapter is being written\n",
    "```\n",
    "\n",
    "The previous chapter {doc}`data` discussed data transformation and network architecture decisions that can be made to make a neural network equivariant with respect to translation, rotation, and permutations. However, those ideas limit the expressibility of our networks and are constructed ad-hoc. Now we will take a more systematic approach to defining equivariances and prove that there is only one layer type that can preserve a given equivariance. The result of this section will be layers that can be equivariant with respect to any transform, even for more esoteric cases like points on a sphere or mirror operations. To achieve this, we will need tools from group theory, representation theory, harmonic analysis, and deep learning.\n",
    "\n",
    "\n",
    "## Do you need equivariance?\n",
    "\n",
    "Before we get too far, let me first try to talk you out of equivariant networks. The math required is advanced, especially because the theory of these is still in flux. There are three papers in the last two years that propose a general theory for equivariant networks and they each take a slightly different approach {cite}`finzi2020generalizing,cohen2019general,kondor2018generalization`. It is also easy to make mistakes in implementations due to the complexity of the methods. You also must do implementations (as of 2020) because there are no efficient general implementations for equivariant networks. You will also find that equivariant networks do not beat generally beat state of the art models on many of the tasks they're design for -- although that is now quickly changing at the end of 2020 with recent benchmarks set in point cloud segmentation {cite}`wang2020equivariant`, molecular force field prediction {cite}`batzner2021se3equivariant`, and molecular energy predictions {cite}`klicpera2020directional`.\n",
    "\n",
    "Alternatives to equivariant networks are training and testing augmentation. Both are powerful methods for many domains and are easy to implement. You can also do data transformations like discussed in {doc}`data` to avoid equivariance. So why would you study this chapter? I think these ideas are important and incorporating the equivariant layers into other network architectures can dramatically reduce parameter numbers and training efficiency."
   ]
  },
  {
   "cell_type": "markdown",
   "metadata": {},
   "source": [
    "\n",
    "## Running This Notebook\n",
    "\n",
    "\n",
    "Click the &nbsp;<i aria-label=\"Launch interactive content\" class=\"fas fa-rocket\"></i>&nbsp; above to launch this page as an interactive Google Colab. See details below on installing packages, either on your own environment or on Google Colab\n",
    "\n",
    "````{tip} My title\n",
    ":class: dropdown\n",
    "To install packages, execute this code in a new cell\n",
    "\n",
    "```\n",
    "!pip install matplotlib numpy pandas seaborn jax jaxlib\n",
    "```\n",
    "\n",
    "````"
   ]
  },
  {
   "cell_type": "markdown",
   "metadata": {},
   "source": [
    "### Outline\n",
    "\n",
    "We have to lay some mathematical foundations before we can grasp the equations and details of equivariant networks. We'll start with a brief overview of group theory so we can define the principle of equivariance generally. Then we'll show how any equivariance can be enforced in a neural network via a generalization of convolutions. Then we'll visit representation theory to see how to encode groups into matrices.  Then we'll see how these convolutions can be more easily represented using the generalization of Fourier transforms. Finally, we'll see some of the special details when looking at equivariances of permutations. Throughout this chapter we'll see three examples that capture some of the different settings. Remember, that I am a chemical engineer so that some of this chapter will probably have reckless math. "
   ]
  },
  {
   "cell_type": "markdown",
   "metadata": {},
   "source": [
    "## Group Theory\n",
    "\n",
    "A modern treatment of group theory can be found in {cite}`zee2016`. A group is a general object in mathematics. A group is a set of elements that can be combined in a binary operation whose output is another member of the group. The most common example are the integers. If you combine two integers in a binary operation, the output is another integer. Of course, it depends on the operation ($1 \\div 2$ does not give an integer), so specifically consider addition. Integers are not the example we care about though. We're interested in groups of **transformations** that move points in a space. Operations like rotation, scaling, mirroring, or translating of single points. As you read about groups here, remember that the elements of the groups are *not* numbers or points. The group elements are transformations that act on points in the space. Notice I'm being a bit nebulous on what the space is for now. Let's first define a group: \n",
    "\n",
    "```{admonition} Group Definition\n",
    "A group $G$ is a set of elements (e.g., $\\{a, b, c, i, e\\}$) equipped with a binary operation ($a\\cdot{}b = c$) whose output is another group element and the following conditions are satisfied:\n",
    "\n",
    "1. **Closure** The output of the binary operation is always a member of the group\n",
    "2. **Associativity** $(a\\cdot{}b)\\cdot{}c = a\\cdot{}(b\\cdot{}c)$\n",
    "3. **Identity** There is a single identity element $e$ such that $ex = x \\forall x \\in G$\n",
    "4. **Inverse** There exists exactly one inverse element $i$ for each $x$ such that $xi = e$\n",
    "```\n",
    "\n",
    "This is quite a bit of nice structure. We always have an inverse available. Applying the binary operations never accidentally leaves our group. One important property that is missing from this list is **commutativity**. In general, a group is not commutative so that $a\\cdot{}b \\neq b\\cdot{}a$. If the group does have this extra property, we call the group **abelian**. Another detail is how big the set is. It can indeed be infinite, which is why the integers or all possible rotations of a sphere can be represented as a group. One notational convenience we'll make is that the binary operation \"$\\cdot{}$\" will just be referred to as multiplication. The number of elements in a group $|G|$ is known as the **order**.\n",
    "\n",
    "```{margin}\n",
    "If you multiply two transforms $a\\cdot{}b$, we always apply $b$ first and then $a$. This is important to remember for non-commutative groups (non-abelian). \n",
    "```\n",
    "\n",
    "The point of introducing the groups is so that they can transforms elements of our space. This is done through a **group action**\n",
    "\n",
    "```{admonition} Group Action\n",
    "A group action $\\phi(g, v)$ is a mapping from a group $G$ and a space $\\mathcal{X}$ to the space $\\mathcal{X}$:\n",
    "\n",
    "\\begin{equation}\n",
    "\\phi: G\\times \\mathcal{X}\\rightarrow \\mathcal{X}\n",
    "\\end{equation}\n",
    "```\n",
    "\n",
    "So a group action takes in two arguments (binary): a group element and a point in a space $\\mathcal{X}$ and transforms the point to a new one: $\\phi(g, x_0) = x_1$. This is just a more systematic way of saying it transforms a point. The group action is neither unique to the space nor group. Often we'll omit the function notation for the group action and just write $gx = x'$. "
   ]
  },
  {
   "cell_type": "markdown",
   "metadata": {},
   "source": [
    "Let's introduce our three example groups that we'll refer to throughout this chapter.\n",
    "\n",
    "\n",
    "### ⬡ Finite Group $Z_6$ \n",
    "\n",
    "The first group is about rotations of a hexagon {glue:}`hex-6`. Our basic group member will be rotating the hexagon enough to shift all the vertices: {glue:}`hex-0` $\\rightarrow$ {glue:}`hex-1`. Notice I've colored the vertices and added a line so we can easily distinguish the orientation of the hexagon. Remember the hexagon, its colors, and if it is actually symmetric have nothing to do with the group. *The group elements are transformations we apply to the hexagon*.\n",
    "\n",
    "One group action for this example can use modular arithmetic. If we represent a point in our space as $\\left\\{0,\\ldots, 5\\right\\}$ then the rotation transformation is $x' = x + 1 \\;(\\bmod\\; 6)$. For example, if we start at $5$ and rotate, we get back to $0$. \n",
    "\n",
    "Our group must contain our rotation transformation $r$ and the identity: $\\{e, r\\}$. This set is not closed though: rotating twice $r\\cdot{}r$ {glue:}`hex-0` $\\rightarrow$ {glue:}`hex-1` $\\rightarrow$ {glue:}`hex-2` gives a new group element $r^2$. To close the group we need to have $\\{e, r, r^2, r^3, r^4, r^5\\}$. \n",
    "\n",
    "Is this closed? Consider rotating twice and then five times $r^2\\cdot{}r^5$ {glue:}`hex-0` $\\rightarrow$ {glue:}`hex-2` $\\rightarrow$ {glue:}`hex-1` You can see that this is the same as $r$, so $r^2\\cdot{}r^5 = r$. What about the inverses element? The inverse of $r$ is $r^5$. $r\\cdot{}r^5 = e$. You can indeed see that each element has an inverse ($e$ is its own inverse).\n",
    "\n",
    "In general, we can write out the group as a multiplication table that conveys all group elements and defines the output of all binary outputs:\n",
    "\n",
    "$$\n",
    "\\begin{array}{l|cccccr}\n",
    "& e & r & r^2 & r^3 & r^4 & r^5\\\\\n",
    "\\hline\n",
    "e & e & r & r^2 & r^3 & r^4 & r^5\\\\\n",
    "r & r & r^2 & r^3 & r^4 & r^5 & e\\\\\n",
    "r^2 & r^2 & r^3 & r^4 & r^5 & e & r\\\\\n",
    "r^3 & r^3 & r^4 & r^5 & e & r & r^2\\\\\n",
    "r^4 & r^4 & r^5 & e & r & r^2 & r^3\\\\\n",
    "r^5 & r^5 & e & r & r^2 & r^3 & r^4\\\\\n",
    "\\end{array}\n",
    "$$\n",
    "\n",
    "You can also see that the group is abelian (commutative). For example, $r\\cdot{}r^3 = r^3\\cdot{}r$. \n",
    "\n",
    "This group is an example of a **cyclic group** and is isomorphic (same transofmrations, but operates on different objects) to integers modulo 6. Meaning, you could view rotation $r^n$ as operating on integers $(x + n) \\textrm{mod}\\, 6$. Cyclic groups are written as $Z_n$, so this group is $Z_6$. \n",
    "\n",
    "\n",
    "### ▩ p4m\n",
    " \n",
    "```{margin}\n",
    "p4m strictly speaking only includes integer translations but many of the principles apply for continuous infinte groups (locally compact) and integer (countably) infinite groups\n",
    "```\n",
    "\n",
    "The second group contains translation, 90° rotations, and  horizontal/vertical mirroring. We're now operating on real numbers $x,y$, so we're in $\\mathbb{R}^2$. Let's ignore the translation for now and just consider mirroring ($s$) and rotation by 90° ($r$) about the origin. What powers of $r$ and $s$ do we need to have a closed group? Considering rotations alone first, like last time we should only need up to $r^3$. Here are the rotations visually: {glue:}`quad-0-0`, {glue:}`quad-1-0`, {glue:}`quad-2-0`, {glue:}`quad-3-0` What about mirroring on horizontal/vertical? Mirroring along the horizontal axis: {glue:}`quad-0-0` $\\rightarrow$ {glue:}`quad-2-1` is actually the same as rotating twice and then mirroring along the vertical. In fact, you only need to have mirroing along one axis. We'll choose the vertical axis by convention and denote that as $s$.\n",
    "\n",
    "We can build the group action piece by piece. The group action for rotation can be represented as a 2D rotation matrix acting a point $(x, y)$:\n",
    "\n",
    "$$\n",
    "\\left[\\begin{array}{lr}\n",
    "\\cos\\frac{k2\\pi}{4} & -\\sin\\frac{k2\\pi}{4}\\\\\n",
    "\\sin\\frac{k2\\pi}{4} & \\cos\\frac{k2\\pi}{4}\\\\\n",
    "\\end{array}\\right]\n",
    "\\left[\\begin{array}{c}\n",
    "x\\\\\n",
    "y\\\\\n",
    "\\end{array}\\right]\n",
    ",\\, k \\in \\left\\{0, 1, 2, 3\\right\\}\n",
    "$$\n",
    "\n",
    "where $k$ can allow us to do two rotations at once ($k = 2$) or the identity ($k = 0$). The vertical axis mirror action can be represented by \n",
    "\n",
    "$$\n",
    "\\left[\\begin{array}{lr}\n",
    "1 & 0\\\\\n",
    "0 & -1\\\\\n",
    "\\end{array}\\right]\n",
    "\\left[\\begin{array}{c}\n",
    "x\\\\\n",
    "y\\\\\n",
    "\\end{array}\\right]\n",
    "$$\n",
    "\n",
    "These two group actions can be ordered to correctly represent rotation then mirroring or vice-versa.\n",
    "\n",
    "\n",
    "Now is this closed with the group elements $\\{e, r, r^2, r^3, s\\}$? Visually we have  {glue:}`quad-0-0`, {glue:}`quad-1-0`, {glue:}`quad-2-0`, {glue:}`quad-3-0`, {glue:}`quad-0-1`? No. Consider $r^2\\cdot{}s$ {glue:}`quad-0-0` $\\rightarrow$ {glue:}`quad-0-1` $\\rightarrow$ {glue:}`quad-2-1` which is not an element. To close the group, we need $\\{e, r, r^2, r^3, s, rs, r^2s, r^3s\\}$. The multiplication table (which defines the elements too) is:\n",
    "\n",
    "$$\n",
    "\\begin{array}{l|cccccccr}\n",
    "& e & r & r^2 & r^3 & s & rs & r^2s & r^3s\\\\\n",
    "\\hline\n",
    "e & e & r & r^2 & r^3 & s & rs & rs^2 & rs^3\\\\\n",
    "r & r & r^2 & r^3 & e & rs & r^2s & r^3s & s\\\\\n",
    "r^2 & r^3 & e & r & r^2 & r^2s & r^3s & s & rs\\\\\n",
    "r^3 & e & r & r^2 & r^3 & r^3s & s & rs & r^2s\\\\\n",
    "s & s & r^3s & r^2s & rs & e & r^3 & r^2 & r\\\\\n",
    "rs & rs & s & r^3s & r^2s & r & e & r^3 & r^2\\\\\n",
    "r^2s & r^2s & rs & s & r^3s & r^2 & r & e & r^3\\\\\n",
    "r^3s & r^3s & r^2s & rs & s & r^3 & r^2 & r & e\\\\\n",
    "\\end{array}\n",
    "$$\n",
    "\n",
    "As you can see from the  table, the group is closed. Remember, elements like $rs$ are not a binary operation. They are group elements. We can also see that the group is not commutative. $r\\cdot{}s$ is {glue:}`quad-0-0` $\\rightarrow$ {glue:}`quad-0-1` $\\rightarrow$ {glue:}`quad-1-1`, so $r\\cdot{}s = rs$ as expected. However, $s\\cdot{}r$ is {glue:}`quad-0-0` $\\rightarrow$ {glue:}`quad-1-0` $\\rightarrow$ {glue:}`quad-3-1`, which is the group element $r^3s$.\n",
    "\n",
    "We can also read the inverses off the table. For example, the inverse of $r$ is the column which gives the identity element: $r^3$. This group is known as the dihedral group 4 $D_4$. It has order 8. \n",
    "\n",
    "Now consider the translation group elements. For simplicity, let's only consider integer translations. We can label them as $t_{w,h}$. So $t_{3,4}$ means translate by $x + 3$ and $y + 4$. Is this a proper group? Certainly it associative, there is an identity $t_{0,0}$ and an inverse for each element $t_{-x, -y}$. What about closure? Yes, since translating twice is equivalent to one larger translation: $t_{w,h}\\cdot{}t_{w', h'} = t_{w + w', h + h'}$. This expression also shows group action for translation. \n",
    "\n",
    "What about when we combine with our other elements from the $D_4$ group? Consider the product $r\\cdot{}t_{3,4}$. This means translating by $(3,4)$ and then rotating by 90° about the origin. If you consider this acting on a single point $(0,0)$, you could get $(0,0) \\rightarrow (3,4) \\rightarrow (-3,4)$. What element of our group would this represent? At first it seems like it could be $t_{-3,4}$. However, $t_{-3,4}$ would only work specifically for starting at $(0,0)$. If you started at $(1,1)$, you would get to $(-4,5)$ with $r\\cdot{}t_{3,4}$ and $(-2,5)$ with $t_{-3,4}$. To be correct for *any point*, we need a different group element. So the product $r\\cdot{}t_{3,4}$ actually cannot be a product but instead must be a group element. In fact, our new combined group is just going to be $ab$ where $a$ is an element from $D_4$ and $b$ is a translation. Thus $r\\cdot{}t_{3,4} = rt_{3,4}$. \n",
    "\n",
    "Combing these two groups, the translation and $D_4$, is an example of a **semidirect product**. A semidirect product just means that we create a new group by combining all possible group elements. There is some machinery for this, like the identity element in our new group is something like $et_{0,0}$, and it has some other structure. It is called semidirect, instead of direct, because we can actually mix our group elements. The elements both act on points in the same space ($x,y$ plane), so this make sense. Another condition is that we can only have a semidirect product when one subgroup is normal and the translation subgroup is the normal subgroup. It is coincidentally abelian, but these two properties are not always identical. This semidirect product group is called p4m.\n",
    "\n",
    "Below, is an optional section that formalizes the idea of combining these two groups into one larger group.\n",
    "\n",
    "\n",
    "```{admonition} Normal Subgroup\n",
    "A normal subgroup is a group of elements $n$ from the group $G$ called $N$. Each $n \\in N$ should have the property that $g\\cdot{}n\\cdot{}\\cdot{}g^{-1}$ gives an element in $N$ for any $g$.  \n",
    "```\n",
    "\n",
    "This does not mean $g\\cdot{}n\\cdot{}g^{-1} = n$, but instead that $g\\cdot{}n\\cdot{}g^{-1} = n'$ where $n'$ is some other element in $N$. For example, in p4m the translations form a normal subgroup. Rotating, translating, then doing the inverse of the rotation is equivalent to some translation. Notice that $D_4$ is not a normal subgroup of p4m. If you do an inverse translation, rotate, then do a translation you may not have something equivalent to a rotation. It may be strange that we're talking about the group p4m when we haven't yet described how it's defined (identity, inverse, binary op). We'll do that with the semidirect product and then we could go back and verify that the translations are a normal subgroup more rigorously. I do not know the exact connection, but it seems that normal subgroups are typically abelian. \n",
    "\n",
    "```{admonition} Semidirect Product\n",
    "Given a normal subgroup of $G$ called $N$ and a subrgoup $H$, we can define $G$ using the semidirect product. Each element in $G$ is a tuple of two elements in $N, H$ written as $(n, h)$. The identity is $(e_n, e_h)$ and the binary operation is:\n",
    "\n",
    "\\begin{equation}\n",
    "(n_1, h_1) \\cdot (n_2, h_2) = (n_1\\cdot\\phi(h_1)(n_1), h_1\\cdot{}h_2)\n",
    "\\end{equation}\n",
    "\n",
    "where $\\phi(h)(n)$ is the conjugation of $n$ $\\phi(h)(n) = h\\cdot{}n\\cdot{}h^{-1}$. When a transform $(n,h)$ is applied, we follow the normal convention that $h$ is applied first followed by $n$. \n",
    "```\n",
    "\n",
    "We are technically doing an outter semidirect product: combining them under the assumption that both $D_4$ and $T$ are part of a larger group which contains both. This is a bit of a semantic detail, but they are actually both part of $p4m$ and a larger group called the affine group which includes translation, rotation, shear, translation, mirror, and scale operations on points. You could also argue they are part of groups which can be represented by 3x3 invertible matrices. Thus, you can combine these and get something that is still smaller than their larger containing group ($p4m$ is smaller than all affine transformations).\n",
    "\n",
    "One consequence of the semidirect product is that if you have a group element $(n,h)$ but want to instead apply $n$ first (instead of $h$), you can use the binary operation:\n",
    "\n",
    "\n",
    "\\begin{equation}\n",
    "(e_n, h) \\cdot (n, e_h) = (e_n\\cdot\\phi(h)(n), h\\cdot{}e_h) = (\\phi(h)(n), h)\n",
    "\\end{equation}\n",
    "\n",
    "\n",
    "so $\\phi(h)(n)$ somehow captures the effect of switching the order applying elements from $H$ and $N$. In our case, this means swapping the order of rotation/mirroring and translation. \n",
    "\n",
    "To show what effect the semidirect product has in p4m, we can clean-up our example above about $r\\cdot{}t_{3,4}$. We should write the first element of this binary product $r$ as a tuple of group elements: one from the $D_4$ and one from the translations. Since there is no translation for $r$, we use the identity. Thus we write $r$ as $(t_{0,0}, r)$ in our semidirect product group p4m. Note that the normal subgroup comes first (applied last) by convention. Similarly, $t_{3,4}$ is written as $(t_{3,4}, e)$. Our equation becomes:\n",
    "\n",
    "$$\n",
    "(t_{0,0}, r)\\cdot(t_{3,4}, e) = (t_{0,0}\\cdot\\phi(r)(t_{3,4}), r\\cdot{}e) = (t_{0,0}\\cdot\\phi(r)(t_{3,4}), r)\n",
    "$$\n",
    "\n",
    "where $\\phi$ is the automorphism that distinguishes a semidirect product from a direct product. The direct product has $\\phi(h)(n) = n$ so that the binary operation for the direct product group is just the element-wise binary products. $\\phi(h)(n) = hnh^{-1}$ for semidirect products. In our equation, this means $\\phi(r)(t_{3,4}) = r\\cdot{}t_{3,4}\\cdot{}r^3$. Substituting this and using the fact that both groups have the same binary operation (matrix multiplication, as we'll see shortly):\n",
    "\n",
    "$$\n",
    "(t_{3,4}\\phi(r)(t_{3,4}), r) = (r\\cdot{}t_{3,4}\\cdot{}r^3, r) = r\\cdot{}t_{3,4}\\cdot{}r^3\\cdot r = r\\cdot{}t_{3,4}\n",
    "$$\n",
    "\n",
    "Thus we've proved that translating by $3,4$ followed by rotating can be expressed as $r\\cdot{}t_{3,4}$, which seems like a lot of work for an obvious result. I won't cover the semidirect product of the group action, but we'll see that we do not necessarily need to build a group action encapsulating both translation and rotation/mirroring. \n",
    "\n",
    "\n",
    "\n",
    "###  ⚽ SO(3) Lie Group\n",
    "\n",
    "SO(3) is one of the most difficult groups to work with but is critical for analyzing 3D point clouds like trajectories. SO(3) is the group of all rotations about the origin in 3D. The group is non-abelian because rotations in 3D are not commutative. The group order is infinite, because you can rotate in this group by any angle (or sets of angles). If you are interested in allowing translations, you can use SE(3) which is the semidirect product of SO(3) and the translation group (like p4m), which is a normal subgroup. \n",
    "\n",
    "The SO(3) name is a bit strange. SO stands for \"special orthogonal\" which are two properties of square matrices. In this case, the matrices are $3\\times3$. Orthogonal  means the columns sum to one and special means the determinant is 1. Interestingly, all rotations in 3D around the origin are also the SO(3) matrices. \n",
    "\n",
    "One detail is that since we're rotating (no scale or translation) *our points will all be on a sphere*. We cannot move the radius. By convention then we'll have a radius 1. The group action is the product of 3 3D rotation matrices $R_z(\\alpha)R_y(\\beta)R_z(\\gamma)$ where $\\alpha, \\beta, \\gamma \\in [0, 2\\pi]$ and\n",
    "\n",
    "$$\n",
    "R_z(\\theta) = \\left[\\begin{array}{lcr}\n",
    "\\cos\\theta & -\\sin\\theta & 0\\\\\n",
    "\\sin\\theta & \\cos\\theta & 0\\\\\n",
    "0 & 0 & 1\\\\\n",
    "\\end{array}\\right]\n",
    "$$\n",
    "\n",
    "$$\n",
    "R_y(\\theta) = \\left[\\begin{array}{lcr}\n",
    "\\cos\\theta & 0 & \\sin\\theta \\\\\n",
    "0 & 1 & 0\\\\\n",
    "-\\sin\\theta &  0 & \\cos\\theta\\\\\n",
    "\\end{array}\\right]\n",
    "$$"
   ]
  },
  {
   "cell_type": "markdown",
   "metadata": {},
   "source": [
    "### Groups on Spaces\n",
    "\n",
    "We've defined transforms and their relationships to one another via group theory. Now we need to actually connect the transforms to a space. It is helpful to think about the space as Euclidean with a concept of distance and coordinates, but we'll see that this is not required. Our space could be vertices on a graph or integers or classes. There are *some* requirements though. The first is that our space must be **homogeneous**. Homogeneous means that from any point in our space $x$ we can reach any other point with a transform $g$ from our group $G$. The second requirement is that if our group is infinite, the space must **compact**. Compactness is a concept from topology and essentially means that the space is smooth and differentiable. This is true of most spaces we'll see in chemistry or materials science, except there may be issues at poles on a sphere or other singular points. This doesn't matter for finite groups, so we can use non-compact spaces like vertices on a graph for finite groups. If the group transforms are further smooth and have smooth inverses, the group (and associated space) are called a **lie group**. \n",
    "\n",
    "```{margin}\n",
    "The lie group definition is a side-note, it has nothing to do with our analysis.\n",
    "```\n",
    "\n",
    "```{tabbed} ⬡ Finite Group $Z_6$ \n",
    "\n",
    "The space is homogeneous because our group includes \"compound\" rotations like $r^4$. This is a finite group, so we do not require the space to be compact. \n",
    "\n",
    "```\n",
    "\n",
    "```{tabbed} ▩ Locally Compact p4m\n",
    "\n",
    "The space is homogeneous since we can use a translation to get to any other point. The space is locally compact because we are in 2D Euclidean geometry. It is not a lie group, because the dihedral operations (rotate/mirror) are not smooth. Or at least I don't think so, I don't know enough about topology. \n",
    "\n",
    "```\n",
    "\n",
    "```{tabbed} ⚽ SO(3) Lie Group\n",
    "\n",
    "The space is homogeneous because we restrict ourselves to being on the sphere. The space is locally compact because we are in 3D Euclidean geometry. This is a lie group because the transformations are continuous and smooth. \n",
    "\n",
    "```"
   ]
  },
  {
   "cell_type": "markdown",
   "metadata": {},
   "source": [
    "This may seem like a ton of work. We could have just started with $xyz$ coordinates and rotation matrices. Please continue to wait though, we're about to see something incredible.\n",
    "\n",
    "## Equivariance Definition\n",
    "\n",
    "You should be thinking now about how we can define equivariance using our new groups. That's where we're headed. We need to do a bit of work now to \"lift\" neural networks and our features into the framework we're building. First, in {doc}`data` we defined our features as being composed of tuples $(\\vec{r}_i, \\vec{x}_i)$ where $\\vec{r}_i$ is a spatial point and $\\vec{x}_i$ are the features at that point. Let's now view these input data as functions, defined as $f(\\vec{r}) = \\vec{x}$ and assume if a point $\\vec{r}'$ isn't in our training data then $f(\\vec{r}') = \\vec{0}$. More formally, our training data is a function $f:\\mathcal{X} \\rightarrow \\mathbb{R}^n$ that maps from our homogeneous space $\\mathcal{x}$ to real vector (or complex vectors) of dimension $n$. \n",
    "\n",
    "We have promoted our data into a function and now a neural network can no longer be just function since its input is a function. Our neural network will be also promoted to an **linear map**, which has an input of a function and an output of a function. Formally, our network $\\psi: f(\\mathcal{X}) \\rightarrow f'(\\mathcal{X})$. Notice the input and output spaces of the functions should be the same (we cannot switch from 2D to 3D). Linear maps are also called **operators**, depending on which branch of mathematics you're in.\n",
    "\n",
    "The last piece of equivariance is to promote our group elements, which transform points, to work on functions.\n",
    "\n",
    "```{admonition} G-Function Transform Definition\n",
    "An element $g$ of group $G$ on the homogeneous space $\\mathcal{X}$ can act on a function $f:\\mathcal{X}\\rightarrow \\mathbb{R}^n$ via the group transform linear map $\\mathbb{T}_g: f(\\mathcal{X}) \\rightarrow f'(\\mathcal{X})$ defined as \n",
    "\n",
    "\\begin{equation}\n",
    "f'(gx) = f(x) \\Rightarrow f'(x) = f(g^{-1}x)\n",
    "\\end{equation}\n",
    "```\n",
    "\n",
    "This definition takes a moment to think about. Consider a translation of an image. You want to move an image to the left by 10 pixels, so $g = t_{10,0}$. The image is defined by the function $f(x,y) = (r, g, b)$, where $r,g,b$ is the color. We want $T_g f(x, y)$. Without knowing about groups, you can intuit that translating can be done by creating a new function $f'(x', y') = f(x - 10, y)$. Notice that the inverse of $g^{-1} = t_{-10, 0}$ acts on the points, not $g$. Recall that a group requires there to be an inverse for any group element.\n",
    "\n",
    "Now we have all the pieces to define an equivariant neural network:\n",
    "\n",
    "```{admonition} Equivariant Neural Network Definition\n",
    "Given a group $G$ on a homogeneous space $\\mathcal{X}$, a G-covariant neural network is linear map $\\psi: f(\\mathcal{X}) \\rightarrow f'(\\mathcal{X})$ that has the property{cite}`kondor2018generalization`:\n",
    "\n",
    "\\begin{equation}\n",
    "\\psi\\left[\\mathbb{T}_g f(x)\\right] = \\mathbb{T}_{g'}\\psi\\left[f(x)\\right]\\;\\forall\\, f\n",
    "\\end{equation}\n",
    "\n",
    "If $g = g'$, the $\\psi$ is a G-equivariant neural network. If $g = g' = e$, the identity, then $\\psi$ is a G-invariant neural network.\n",
    "```\n",
    "\n",
    "Note **covariant** is a rarely used term; I only include it to distinguish between the general case of $g \\neq g'$ and the much more common $g = g'$ equivariant case. The definition means that we get the same output if we transform the input function to the neural network or transform the output (in the equivariant case). In a specific example, if we rotate the input by 90 degrees, that's the same result as rotating the output by 90 degrees. Take a moment to ensure that matches your idea of what equivariance means. After all this math, we've generalized equivariance to arbitrary spaces and groups.\n"
   ]
  },
  {
   "cell_type": "markdown",
   "metadata": {},
   "source": [
    "## G-Equivariant Convolution Layers\n",
    "\n",
    "Kondor and Trivedi showed that there is *only one* way to make a G-equivariant neural network:\n",
    "\n",
    "```{admonition} G-Equivariant Convolution Theorem\n",
    "A neural network layer (linear map) $\\psi$ is G-equivariant if and only if its form is a convolution operator $*$ \n",
    "\n",
    "\\begin{equation}\n",
    "\\label{discconv}\n",
    "\\psi(f) = (f * \\phi)(u) = \\sum_{g \\in G} f\\uparrow^G\\left(ug^{-1}\\right)\\phi\\uparrow^G\\left(g\\right)\n",
    "\\end{equation}\n",
    "\n",
    "where $f: H \\rightarrow \\mathbb{R}^n$ and $\\phi: H' \\rightarrow \\mathbb{R}^n$ are functions of quotient spaces $H$ and $H'$. If the group $G$ is locally compact (infinite elements), then the convolution operator is\n",
    "\n",
    "\\begin{equation}\n",
    "\\label{cont-conv}\n",
    "\\psi(f) = (f * \\phi)(u) = \\int_G f\\uparrow^G\\left(ug^{-1}\\right)\\phi\\uparrow^G\\left(g\\right)\\,d\\mu(g)\n",
    "\\end{equation}\n",
    "\n",
    "where $\\mu$ is the group Haar measure. \n",
    "\n",
    "```\n",
    "```{margin}\n",
    "This is one of the strongest theorems in deep learning. It says there is only one way to achieve equivariance in a neural network. This may seem counter-intuitive since there are many competing approaches to convolutions. These other approaches are actually equivalent to a convolution, just it can be hard to notice. \n",
    "```\n",
    "\n",
    "As you can see from the theorem, we must introduces more new concepts. The first important detail is that all our functions are over our group elements (technically the quotient space $G / H_0$), not our space. This should seem strange. We will easily fix this because there is a (bijective) way to assign one group element to each point in the space. The second detail is the $f \\uparrow^G$. The order of the group $G$ is greater than or equal to the number of points in our space, so if the function is defined on our space, we must \"lift\" it up to the group $G$ which has more elements. The last detail is the point about **quotient spaces**. Quotient spaces are how we cut-up our group $G$ into subgroups so that one has the same order as the number of points in our space. Below I detail these new concepts just enough so that we can implement and understand these convolutions.\n",
    "\n",
    "## Converting between Space and Group\n",
    "\n",
    "Let's see how we can convert between functions on the space $\\mathcal{X}$ and functions on the group $G$. $|G| \\geq |\\mathcal{X}|$ so it is rare that we can uniquely replace each point in space with a group in $G$. Instead, we will construct a partitioning of $G$ into $|\\mathcal{X}|$ sets called a quotient space $G / H$ such that $|G / H| = |\\mathcal{X}|$. It turns out, there is a well-studied approach to arranging elements in a group called **costets**. Constructing cosets is a two-step process. First we define a subgroup $H$. A **subgroup** means it is itself a group; it has identities and inverses. We cannot accidentally leave $H$, $h_1\\cdot{} h_2 \\in H$. For example, translation transformations are a subgroup because you cannot accidentally create a rotation when combining two translations. \n",
    "\n",
    "```{margin}\n",
    "This process of constructing cosets and then using that to lift our function is closely related to the process of finding an induced representation on $G$ via a representation on $H$.\n",
    "```\n",
    "\n",
    "After constructing a subgroup $H$, we can apply an element $g$ to every element in $H$, written as \n",
    "\n",
    "\\begin{equation}\n",
    "gH = \\left\\{g \\cdot h \\forall h \\in H\\right\\}\n",
    "\\end{equation}\n",
    "\n",
    "If this sounds strange, wait for an example. $gH$ is called a **left coset**. We mention the direction because $G$'s binary operation may not be commutative (non-abelian). What happens if $g$ is in $H$? No problem; $H$ is a group so applying an element to every element in $H$ just gives back $H$ (i.e. $hH = H$). Cosets are not groups, they are definitely not closed or have inverses. What's the point of making all these cosets? Remember our goal is to partition $G$ into a bunch of smaller sets so that we have one for each point in $\\mathcal{X}$. Constructing cosets partitions $G$ for sure, but do we get enough? Could we accidentally have overlaps between cosets, where $g_1H$ and $g_2H$ contain the same elements? \n",
    "\n",
    "```{margin}\n",
    "If you group involves rotations, make life easy on yourself and always choose $x_0$ as the origin (or center of the rotations). \n",
    "```\n",
    "\n",
    "It turns out if our space is homogeneous we can construct our cosets in a special way so that we have exactly one coset for each point in the space $\\mathcal{X}$. To get our group, we pick an arbitrary point in the space $x_0$. Often this will be the origin. Then we choose our subrgoup $H$ to be all group elements that leave $x_0$ unchanged.  This is called a stabilizer subgroup $H_0$ and is defined as \n",
    "\n",
    "\\begin{equation}\n",
    "H_0 = \\left\\{ g \\in G \\,\\textrm{such that}\\, g x_0 = x_0\\right\\}\n",
    "\\end{equation}\n",
    "\n",
    "We will not prove that this is a group itself. This defines our subgroup. Here's the remarkable thing: we will have exactly enough cosets with this stabilizer as there are points in $\\mathcal{X}$. However, multiple $g's$ will give the same coset (as expected, since $|G| > |\\mathcal{X}|$).\n",
    "\n",
    "```{margin} This set of all cosets is itself a group and it is written as $G / H_0$. The fact that the cosets is a group is just weird. What is the identity coset? How do you define binary operations on cosets? It turns out we do not need these items but it is fascinating.\n",
    "```\n",
    "\n",
    "\n",
    "Now comes the details, how do we match-up points in $\\mathcal{X}$ to the cosets? We know that the space is homogeneous  so each point in $x$ can be reached from our arbitrary origin by a group element $gx_0 = x$. That's one way to connect points to group elements, but which coset will $g$ be in? There also may be multiple $g$s that satisfy the equation. It turns out that all the group elements that satisfy the equation will be in the same coset. The reason why is that $g\\cdot h x_0 = gx_0$ because all elements $h$ of the stabilizer group do not move $x_0$. Quite elegant. \n",
    "\n",
    "How do we find which coset we need? Since the identity $e$ is in $H_0$ (by definition), the coset $gH_0$ will contain $g$ itself. Thus, we can convert a function $f(x)$ from the space to be a function on the quotient space $f(g)$ via what we call **lifting**:\n",
    "\n",
    "\\begin{equation}\n",
    "f\\uparrow^G(g) = f(gx_0)\n",
    "\\end{equation}\n",
    "\n",
    "One point to note is that you can plug any element $g$ from the group into $f\\uparrow^G(g)$ but it is bijective only over $G / H$ (the cosets). Your null space will be the whole subgroup $H_0$.\n",
    "\n",
    "```{margin}\n",
    "A coset can have multiple labes in this system. $g_1H_0$ and $g_2H_0$ could be the same coset. There are no consequences of this, but just be aware. \n",
    "```\n",
    "\n",
    "Going the opposite, from a function on the group to the space, is called **projecting** because it will have a smaller domain. We can use the same process as above. We create the quotient space and then just take the average over a single coset to get a single value for the point $x$:\n",
    "\n",
    "\\begin{equation}\n",
    "f\\downarrow_\\mathcal{X}(x) = \\frac{1}{|H_0|}\\sum_{u \\in gH_0} f(u), \\: gx_0 = x\n",
    "\\end{equation}\n",
    "\n",
    "where we've used the fact that $|gH_0| = |H_0|$. Let's see some examples now to make all of these easier to understand. \n"
   ]
  },
  {
   "cell_type": "markdown",
   "metadata": {},
   "source": [
    "```{tabbed} ⬡ Finite Group $Z_6$ \n",
    "\n",
    "Our function is the color of the vertices in our picture {glue:}`hex-0` $f(x) = (r, g, b)$ where $r,g,b$ are fractions of the color red, blue green. If we define the vertices to start at the line pointing up, we can label them $0,\\ldots,5$. So for example $f(0) =(0.11, 0.74, 0.61)$, which is the color of the top vertex. \n",
    "\n",
    "We can define the origin as $x_0 = 0$. $|G| = |\\mathcal{X}|$ for this finite group and thus our stabilizer subgroup only contains the identity $H_0 = \\{e\\}$. Our cosets and their associated points will be $(eH_0, x = 0), (rH_0, x = 1), (r^2H_0, x = 2), (r^3H_0, x = 3), (r^4H_0, x = 4), (r^5H_0, x = 5)$. The lifted $f\\uparrow^G(g)$ can be easily defined using these cosets. \n",
    "\n",
    "```\n",
    "\n",
    "```{tabbed} ▩ Locally Compact p4m\n",
    "p4m is intended for images, so our example will be a function $f: \\mathbb{R}^2 \\rightarrow \\mathbb{R}$ that represents a black and white image. This group contains rotations about the origin, so if we choose the origin as our stabilizer it will cleanly separate our group. Namely:\n",
    "\n",
    "$$\n",
    "H_0 = \\left\\{e_ne_r, e_nr, e_nr^2, e_nr^3 , e_ns , e_nrs , e_nr^2s , e_nr^3s\\right\\}\n",
    "$$\n",
    "\n",
    "where our elements have been written out as the semidirect product of translations and $D_4$ as discussed previously. Let's compute a coset to get a sense of this process. Consider the group element $t_{1,0}e_r$ creating the coset $t_{1,0}e_rH_0$. The first element of the coset is $t_{1,0}e_r \\cdot e_ne_r = t_{1,0}e_r$. The second element is $t_{1,0}e_r \\cdot t_{0,0}r = t_{1,0}r$. The rest of the elements of this coset are:\n",
    "\n",
    "$$\n",
    "t_{1,0}e_rH_0 = \\left\\{t_{1,0}e_r , t_{1,0}r , t_{1,0}r^2 ,t_{1,0}r^3 , t_{1,0}s , t_{1,0}rs , t_{1,0}r^2s , t_{1,0}r^3s\\right\\}\n",
    "$$\n",
    "\n",
    "Note these were simple to compute because $\\phi(g)(e_n) = ge_ng^{-1} = e_n$. Now what point is this associated with? Consider the first non-identity coset element $t_{1,0}r$ acting on the origin: $(0,0)\\rightarrow(0,0)\\rightarrow(1,0)$. You'll see similarly that all elements in the coset will follow the same pattern: the first element from $H_0$ doesn't move the origin (by definition) and the second element is the same in the coset (translation by $x + 1$). Thus, the first coset $t_{1,0}e_rH_0$ is associated with the point $(1,0)$.\n",
    "\n",
    "Now consider a coset that involves a $D_4$ element: $t_{1,0}rsH_0$. You can compute its elements as:\n",
    "\n",
    "$$\n",
    "t_{1,0}rsH_0 = \\left\\{t_{1,0}rs, t_{1,0}s, t_{1,0}r^3s, t_{1,0}r^2s, t_{1,0}r, t_{1,0}e_r , t_{1,0}r^3 , t_{1,0}r^2\\\\\\right\\}\n",
    "$$\n",
    "\n",
    "This contains all the same elements as the coset $t_{1,0}e_rH_0$! This is because we have more group elements than space in $\\mathcal{X}$; multiple $g$'s result in the same coset. This doesn't change our intuition though: the translation transform still defines the connection between our coset and the space. Our lifting function will be \n",
    "\n",
    "$$\n",
    "f\\uparrow^G(g) = f\\uparrow^G\\left((t_{x,y}, h)\\right) = f(x,y)\n",
    "$$\n",
    "\n",
    "\n",
    "```\n",
    "\n",
    "```{tabbed} ⚽ SO(3) Lie Group\n",
    "\n",
    "For this example, our function will be points on the sphere $f(x) = \\sum_i \\delta(x - x_i)$. We can represent the group element rotations (among other choices) as being the product of three rotations about the $y$ and $z$ axes: $R_z(\\alpha)R_y(\\beta)R_z(\\gamma)$ If that seems surprising, remember that rotations are not commutative. Santa lives in the north pole, so let's choose the north pole $(0, 0, 1)$ as our stabilizer. You cannot choose $(0,0,0)$ remember because it is not in the space. Our subgroup is rotations that only involve $\\gamma$, for example $R_z(0)R_y(0)R_z(90)$ is in our subgroup $H_0$. Let's generate a coset, say for the group element $g = R_z(120)R_y(0)R_z(60)$. The coset $gH_0$ will be rotations of $R_z(120)R_y(0)R_z(60)R_z(0)R_y(0)R_z(\\gamma)$, which can be simplified to $R_z(120)R_y(0)R_z(60 + \\gamma)$. Thus the coset is $gH_0 = \\left\\{R_z(120)R_y(0)R_z(60 + \\gamma)\\, \\forall \\gamma \\in [0, 2\\pi]\\right\\}$ \n",
    " \n",
    "Now what point is associated with this coset? It will be this rotation applied to the origin: $R_z(120)R_y(0)R_z(60 + \\gamma)x_0$. The first rotation has no effect, by definition, so it becomes $R_z(120)R_y(0)x_0$. The general form is that the coset for a point $x$ is the rotation such that $R_z(\\alpha)R_y(\\beta)x_0 = x$. This quotient space happens to be identical to SO(2), rotations in 2D, because it's defined by two angles. The lifting functions is defined as:\n",
    "\n",
    "\n",
    "$$\n",
    "f\\uparrow^G(g) = f\\uparrow^G\\left(R_z(\\alpha)R_y(\\beta)R_z(\\gamma)\\right) = f\\left(R_z(\\alpha)R_y(\\beta)x_0\\right)\n",
    "$$\n",
    "\n",
    "```"
   ]
  },
  {
   "cell_type": "markdown",
   "metadata": {},
   "source": [
    "## G-Equivariant Convolutions on Finite Groups\n",
    "\n",
    "We now have all the tools to build an equivariant network for a finite group. We'll continue with our example group $Z_6$ on vertices of a hexagon. The hidden cell below does our imports.\n"
   ]
  },
  {
   "cell_type": "code",
   "execution_count": 1,
   "metadata": {
    "tags": [
     "hidden-cell"
    ]
   },
   "outputs": [],
   "source": [
    "import numpy as np\n",
    "import matplotlib.pyplot as plt\n",
    "import matplotlib as mpl\n",
    "color_cycle = ['#1BBC9B', '#F06060', '#5C4B51', '#F3B562', '#6e1bc2', '#AAAAAA']\n",
    "mpl.rcParams['axes.prop_cycle'] = mpl.cycler(color=color_cycle) \n",
    "np.random.seed(0)"
   ]
  },
  {
   "cell_type": "markdown",
   "metadata": {},
   "source": [
    "Let's start by defining our input function:"
   ]
  },
  {
   "cell_type": "code",
   "execution_count": 3,
   "metadata": {},
   "outputs": [
    {
     "data": {
      "text/plain": [
       "array([0.10546875, 0.734375  , 0.60546875])"
      ]
     },
     "execution_count": 3,
     "metadata": {},
     "output_type": "execute_result"
    }
   ],
   "source": [
    "# make our colors (nothing to do with the model)\n",
    "\n",
    "vertex_colors = []\n",
    "for c in color_cycle:\n",
    "    hex_color = int(c[1:], 16)\n",
    "    r =  hex_color // 256**2\n",
    "    hex_color = hex_color - r * 256**2\n",
    "    g =  hex_color // 256\n",
    "    hex_color = hex_color - g * 256\n",
    "    b = hex_color\n",
    "    vertex_colors.append((r / 256, g / 256, b / 256))\n",
    "vertex_colors = np.array(vertex_colors)\n",
    "def z6_fxn(x):\n",
    "    return vertex_colors[x]\n",
    "z6_fxn(0)"
   ]
  },
  {
   "cell_type": "markdown",
   "metadata": {},
   "source": [
    "If we assume our group is indexed already by our vertex coordinates $\\{0,\\ldots, 5\\}$ then our function is already defined on the group. Now we need our trainable kernel function. It will be defined like our other function.\n"
   ]
  },
  {
   "cell_type": "code",
   "execution_count": 12,
   "metadata": {},
   "outputs": [
    {
     "data": {
      "text/plain": [
       "array([[ 1.5430146 , -1.29285691,  0.26705087],\n",
       "       [-0.03928282, -1.1680935 ,  0.52327666],\n",
       "       [-0.17154633,  0.77179055,  0.82350415]])"
      ]
     },
     "execution_count": 12,
     "metadata": {},
     "output_type": "execute_result"
    }
   ],
   "source": [
    "# make weights be 3x3 matrices at each group element\n",
    "# 3x3 so that we have 3 color channels in and 3 out\n",
    "weights = np.random.normal(size=(6, 3, 3))\n",
    "\n",
    "def z6_phi(x):\n",
    "    return weights[x]\n",
    "z6_phi(3)"
   ]
  },
  {
   "cell_type": "markdown",
   "metadata": {},
   "source": [
    "Now we can define our group convolution operator from Equation 8.6. We do need one helper function to get an inverse group element. Remember too that this returns a *function*"
   ]
  },
  {
   "cell_type": "code",
   "execution_count": 13,
   "metadata": {},
   "outputs": [
    {
     "data": {
      "text/plain": [
       "array([ 1.03849943, -1.73916478, -1.62693691])"
      ]
     },
     "execution_count": 13,
     "metadata": {},
     "output_type": "execute_result"
    }
   ],
   "source": [
    "def z6_inv(g):\n",
    "    return (6 - g) % 6\n",
    "def z6_prod(g1, g2):    \n",
    "    return (g1 + g2) % 6\n",
    "def conv(f, p):\n",
    "    def out(u):\n",
    "        g = np.arange(6)    \n",
    "        # einsum is so we can do matrix product for elements of f and g,\n",
    "        # since we have one matrix per color\n",
    "        c = np.sum(np.einsum('ij,ijk->ik', f(z6_prod(u, z6_inv(g))), z6_phi(g)), axis=0)\n",
    "        return c\n",
    "    return out\n",
    "conv(z6_fxn, z6_phi)(0)"
   ]
  },
  {
   "cell_type": "markdown",
   "metadata": {},
   "source": [
    "At this point, we can now verify that the CNN is equivariant by comparing transforming the input function and the output function. We'll need to define our function transforms as well."
   ]
  },
  {
   "cell_type": "code",
   "execution_count": 14,
   "metadata": {},
   "outputs": [
    {
     "data": {
      "text/plain": [
       "(array([0.10546875, 0.734375  , 0.60546875]),\n",
       " array([0.4296875 , 0.10546875, 0.7578125 ]))"
      ]
     },
     "execution_count": 14,
     "metadata": {},
     "output_type": "execute_result"
    }
   ],
   "source": [
    "def z6_fxn_trans(g, f):\n",
    "    return lambda h: f(z6_prod(z6_inv(g), h))\n",
    "z6_fxn(0), z6_fxn_trans(2, z6_fxn)(0)"
   ]
  },
  {
   "cell_type": "markdown",
   "metadata": {},
   "source": [
    "First we'll compute $\\psi\\left[\\mathbb{T}_2 f(x)\\right]$ -- the network acting on the transformed input function"
   ]
  },
  {
   "cell_type": "code",
   "execution_count": 15,
   "metadata": {},
   "outputs": [],
   "source": [
    "trans_element = 2\n",
    "trans_input_fxn = z6_fxn_trans(trans_element, z6_fxn)\n",
    "trans_input_out = conv(trans_input_fxn, z6_phi)"
   ]
  },
  {
   "cell_type": "markdown",
   "metadata": {},
   "source": [
    "Now we compute $\\mathbb{T}_2\\psi\\left[f(x)\\right]$ -- the transform acting on the network output"
   ]
  },
  {
   "cell_type": "code",
   "execution_count": 16,
   "metadata": {},
   "outputs": [
    {
     "name": "stdout",
     "output_type": "stream",
     "text": [
      "g -> psi[f(g)], g -> psi[Tgf(g)], g-> Tg psi[f(g)]\n",
      "0 [ 1.04 -1.74 -1.63] [ 1.19 -0.62 -0.74] [ 1.19 -0.62 -0.74]\n",
      "1 [ 0.58  0.91 -3.05] [ 2.13 -0.96 -2.89] [ 2.13 -0.96 -2.89]\n",
      "2 [ 0.32 -0.46 -1.93] [ 1.04 -1.74 -1.63] [ 1.04 -1.74 -1.63]\n",
      "3 [ 1.12 -1.72 -3.03] [ 0.58  0.91 -3.05] [ 0.58  0.91 -3.05]\n",
      "4 [ 1.19 -0.62 -0.74] [ 0.32 -0.46 -1.93] [ 0.32 -0.46 -1.93]\n",
      "5 [ 2.13 -0.96 -2.89] [ 1.12 -1.72 -3.03] [ 1.12 -1.72 -3.03]\n"
     ]
    }
   ],
   "source": [
    "output_fxn = conv(z6_fxn, z6_phi)\n",
    "trans_output_out = z6_fxn_trans(trans_element, output_fxn)\n",
    "\n",
    "print('g -> psi[f(g)], g -> psi[Tgf(g)], g-> Tg psi[f(g)]')\n",
    "for i in range(6):\n",
    "    print(i, np.round(conv(z6_fxn, z6_phi)(i),2), np.round(trans_input_out(i),2), np.round(trans_output_out(i),2))"
   ]
  },
  {
   "cell_type": "markdown",
   "metadata": {},
   "source": [
    "We can see that the outputs indeed match and therefore our network is G-equivariant. One last detail is that it would be nice to visualize this, so we can add a nonlinearity to remap our output back to color space. Our colors should be between 0 and 1, so we can use a sigmoid to put the activations back to valid colors. I'll hide the input since it contains irrelevant code, but here is the visualization of the previous numbers showing the equivariance."
   ]
  },
  {
   "cell_type": "code",
   "execution_count": 17,
   "metadata": {
    "scrolled": true
   },
   "outputs": [
    {
     "data": {
      "image/png": "[encoded data removed]",
      "text/plain": [
       "<Figure size 450x1350 with 3 Axes>"
      ]
     },
     "metadata": {},
     "output_type": "display_data"
    }
   ],
   "source": [
    "c1 = conv(z6_fxn, z6_phi)\n",
    "c2 = trans_input_out\n",
    "c3 = trans_output_out\n",
    "titles = [r'$\\psi\\left[f(g)\\right]$', r'$\\psi\\left[\\mathbb{T}_2f(g)\\right]$', r'$\\mathbb{T}_2\\psi\\left[f(g)\\right]$']\n",
    "\n",
    "def sigmoid(x):  \n",
    "    return 1 / (1 + np.exp(-x))\n",
    "\n",
    "def convert_color(r, g, b):    \n",
    "    h = int(sigmoid(r) * 256**3 + sigmoid(g) * 256**2 + sigmoid(b) * 256)\n",
    "    return '#{:6X}'.format(h)\n",
    "\n",
    "c1 = [sigmoid(c1(i)) for i in range(6)]\n",
    "c2 = [sigmoid(c2(i)) for i in range(6)]\n",
    "c3 = [sigmoid(c3(i)) for i in range(6)]\n",
    "\n",
    "fig, axs = plt.subplots(1, 3, squeeze=True, figsize=(3, 9), dpi=150)\n",
    "points = np.array([(0,1), (0.5 * np.sqrt(3), 0.5), (0.5 * np.sqrt(3), -0.5), (0, -1), (-0.5 * np.sqrt(3), -0.5), (-0.5 * np.sqrt(3), 0.5)])\n",
    "for i in range(3):\n",
    "    axs[i].scatter(points[:,0], points[:,1], color=[c1, c2, c3][i])\n",
    "    #plt.plot([0, points[0,0]], [0, points[0, 1]], color='black', zorder=0) \n",
    "    axs[i].set_xticks([])\n",
    "    axs[i].set_yticks([])\n",
    "    axs[i].set_xlim(-1.4, 1.4)\n",
    "    axs[i].set_ylim(-1.4, 1.4) \n",
    "    axs[i].set_aspect('equal')\n",
    "    axs[i].set_title(titles[i], fontsize=8)\n",
    "plt.show()"
   ]
  },
  {
   "cell_type": "markdown",
   "metadata": {},
   "source": [
    "As you can see, our output looks the same if we apply the rotation either before or after, so our network is G-equivariant."
   ]
  },
  {
   "cell_type": "markdown",
   "metadata": {},
   "source": [
    "## G-Equivariant Convolutions with Translation\n",
    "\n",
    "How can we treat the p4m group? We cannot directly use the continuous convolution definition because the rotations/mirror subgroup is finite and we cannot use the finite convolution because the translation subgroup is locally compact (infinitely many elements). Instead, we will exploit the structure of the group: it is constructed via a semidirect product so each group element is a pair of elements. Namely we can rewrite Equation 8.6 using the constituent subgroups $N \\rtimes H$ and writing elements $g = hn, g^{-1} = n^{-1}h^{-1}$.\n",
    "\n",
    "```{margin}\n",
    "Remember that $g = nh$ is fine to use because $(n, e_r)\\cdot (e_n, h) = (n, h)$, whereas the reverse requires using the conjugation $\\phi(h)(n)$ (not to be confused with the kernel $\\phi(g)$).\n",
    "```\n",
    "\n",
    "\\begin{equation}\n",
    "(f * \\phi)(u) = \\sum_{n \\in N}\\sum_{h \\in H} f\\uparrow^G\\left(un^{-1}h^{-1}\\right)\\phi(hn)\n",
    "\\end{equation}\n",
    "\n",
    "Now we must treat the fact that there are an infinite number of elements in $N$ (the translations). We can simply choose the kernel function ($\\phi$) to only have support ($\\phi(g) > 0$) at locations we want and that will simplify the integration. This may seem ad-hoc -- but remember we already made choices like not including 45° rotations. There do exist ways to systematically treat how to narrow the kernels into \"neigbhorhoods\" of groups in {cite}`finzi2020generalizing` or you can find a rigorous derivation specifically for p4 in {cite}`romero2020attentive` or {cite}`cohen2016group`.\n",
    "\n",
    "Our goal for the p4m group is image data, so we'll limit the support of the kernel to only integer translations (like pixels) and limit the distance to 5 units. This simply reduces our sum over the normal subrgroup ($N$). We can now begin our implementation. "
   ]
  },
  {
   "cell_type": "code",
   "execution_count": 1,
   "metadata": {},
   "outputs": [],
   "source": [
    "pass"
   ]
  },
  {
   "cell_type": "markdown",
   "metadata": {},
   "source": [
    "## Group Representation\n",
    "\n",
    "Before we can progress to define equivariant convolutions on locally compact groups, we need to learn how to systematically represent the group element binary operation. You can find a detailed description of representation theory in Serre {cite}`serre1977linear`. Thus far, we've discussed the group actions -- how they affect a point. Now we need to describe how to represent them with matrices.. This will be a very quick overview of this topic, but representation of groups is a large area with well-established references. There is specifically a great amount of literature about building up these representations, but we'll try to focus on using them since you generally can look-up the representations for most groups we'll operate in. \n",
    "\n",
    "Let us first define a representation on a group:\n",
    "\n",
    "```{admonition} Linear Representation of a Group\n",
    "Let $G$ be a group on an $n$-dimensional vector space $\\mathcal{X}$ . A linear representation of $G$ is a group homomorphism: $\\rho: G \\rightarrow GL(m,\\mathbb{C})$ where $GL(m, \\mathbb{C})$ is the space of $m\\times m$ square invertible matrices with complex numbers. The representation $\\rho$ should satisfy the following equation\n",
    "\n",
    "\\begin{equation}\n",
    "\\label{rep-def}\n",
    "\\rho\\left(g_1\\cdot g_2\\right) = \\rho\\left(g_1\\right) \\rho\\left(g_2\\right)\\; \\forall\\, g_1,g_2 \\in G\n",
    "\\end{equation}\n",
    "\n",
    "where the term $\\rho\\left(g_1\\right) \\rho\\left(g_2\\right)$ is a matrix product. \n",
    "```\n",
    "\n",
    "There are a few things to note about this definition. First, the representation assigns matrices to graph elements in such a way that multiplying matrices gives the same representation as getting the representation of the binary operation ($\\rho\\left(g_1\\cdot g_2\\right)$). Second, the matrices have to be square and invertible. This follows from the requirement that group elements must have an inverse, so naturally we need invertible matrices. The invertible requirement also means we must allow complex numbers. Third, the **degree** of the representation ($m$) need not be the same size as the vector space. \n",
    "\n",
    "There is a big detail missing from this definition. Does this have anything to do with how the group element affect a point? No. The way a group affects a point the **group action**, which maps from the direct product of $G, \\mathcal{X}$ (i.e., a tuple like $(g_2, x)$ to $\\mathcal{X}$. Yet a group action is also a representation and a *linear* group action can form a matrix representation. Consider we write the group action $\\pi$ (how a group element affects a point) as $\\pi(g)(x) = x'$. You can convert this into a square matrix in $\\mathcal{X}\\times\\mathcal{X}$ by considering how each element of $x'$ is affected the element in $x$. This matrix can be further shown to be in $GL(m, \\mathcal{X})$ and a representation by relying on its linearity. A combined linear group action and representation constructed this way is sometimes called the **regular representation.**\n",
    "\n",
    "\n",
    "*We've simplified the problem of finding a representation to creating a matrix that describes how a point is transformed for any group element $g$ called a linear group action.* I will mention one more way you can construct representations via **induced representations**. If you are unable to construct a representation or group action directly and your group was constructed via a semidirect or direct product, you can build it by first defining a representation on a *normal* subgroup $H$ and then use an **induced action** to create a representation of the whole group $G$.\n",
    "\n",
    "\n",
    "Let's now see our group representations on the examples. \n"
   ]
  },
  {
   "cell_type": "markdown",
   "metadata": {},
   "source": [
    "```{tabbed} ⬡ Finite Group $Z_6$ \n",
    "\n",
    "Our group action defined above was modular arithmetic, which is not linear and so we cannot use it to construct representation. There are multiple representation for this group. If you're comfortable with complex numbers, you can build circulant matrices of $6$th roots of unity. If that confuses you, like it does me, then you can also just view this group like a rotation group. Just like how if you rotate enough times you get back to the beginning, you can also use rotation matrices of $360 / 6 = 60^{\\circ}$. This requires a 2D vector representation though for the space. With this choice, the regular representation is:\n",
    "\n",
    "$$\n",
    "\\left[\\begin{array}{lr}\n",
    "\\cos\\frac{k2\\pi}{6} & -\\sin\\frac{k2\\pi}{6}\\\\\n",
    "\\sin\\frac{k2\\pi}{6} & \\cos\\frac{k2\\pi}{6}\\\\\n",
    "\\end{array}\\right],\\, k \\in \\left\\{0, 1, 2, 3, 4, 5\\right\\}\n",
    "$$\n",
    "\n",
    "Let's verify that this is a representation by checking that $r^2\\cdot\\,r^4 = e$\n",
    "\n",
    "$$\n",
    "\\left[\\begin{array}{lr}\n",
    "\\cos\\frac{4\\pi}{6} & -\\sin\\frac{4\\pi}{6}\\\\\n",
    "\\sin\\frac{4\\pi}{6} & \\cos\\frac{4\\pi}{6}\\\\\n",
    "\\end{array}\\right]\\left[\\begin{array}{lr}\n",
    "\\cos\\frac{8\\pi}{6} & -\\sin\\frac{k2\\pi}{6}\\\\\n",
    "\\sin\\frac{8\\pi}{6} & \\cos\\frac{8\\pi}{6}\\\\\n",
    "\\end{array}\\right] = \\left[\\begin{array}{lr}\n",
    "\\cos\\frac{12\\pi}{6} & -\\sin\\frac{12\\pi}{6}\\\\\n",
    "\\sin\\frac{12\\pi}{6} & \\cos\\frac{12\\pi}{6}\\\\\n",
    "\\end{array}\\right] = \\left[\\begin{array}{lr}\n",
    "1 & 0\\\\\n",
    "0 & 1\\\\\n",
    "\\end{array}\\right]\n",
    "$$\n",
    "\n",
    "You can also verify that this is a group action by repeated application to the point $(1,0)$, which will rotate around the unit circle. \n",
    "\n",
    "```\n",
    "\n",
    "```{tabbed} ▩ Locally Compact p4m\n",
    "\n",
    "Our group action defined above for the translation elements is not linear. To define a regular representation, we can use [**Affine Matrices**]() which are $3\\times3$ invertible square matrices. That means even though our goal is 2D data, we need to introduce a 3rd dimension: $(x, y, 1)$. The 3rd dimension is always $1$ and is called the augmented dimension. To specify a group representation we simply need to multiply an affine matrix for rotation, reflection, and translation (*in that order!*). These are:\n",
    "\n",
    "Rotation:\n",
    "\n",
    "$$\n",
    "\\left[\\begin{array}{lcr}\n",
    "\\cos\\frac{k\\pi}{4} & -\\sin\\frac{k\\pi}{4} & 0\\\\\n",
    "\\sin\\frac{k\\pi}{4} & \\cos\\frac{k\\pi}{4} & 0\\\\\n",
    "0 & 0 & 1\\\\\n",
    "\\end{array}\\right] ,\\, k \\in \\left\\{0, 1, 2, 3\\right\\}\n",
    "$$\n",
    "\n",
    "Reflection:\n",
    "\n",
    "$$\n",
    "\\left[\\begin{array}{lcr}\n",
    "1 & 0 & 0\\\\\n",
    "0 & -1 & 0\\\\\n",
    "0 & 0 & 1\\\\\n",
    "\\end{array}\\right]\n",
    "$$\n",
    "\n",
    "Translation:\n",
    "\n",
    "$$\n",
    "\\left[\\begin{array}{lcr}\n",
    "1 & 0 & \\Delta x\\\\\n",
    "0 & 1 & \\Delta y\\\\\n",
    "0 & 0 & 1\\\\\n",
    "\\end{array}\\right]\n",
    "$$\n",
    "\n",
    "It is a bit more involved to verify this is a group representation, but you can try a few group element products to convince yourself. Do not forget the special homomorphism (conjugate $\\phi(h)(n)$) for semidirect products when multiplying group element, which ensures the correct behavior if rearrange the order of the matrices. \n",
    "\n",
    "```\n",
    "\n",
    "\n",
    "```{tabbed} ⚽ SO(3) Lie Group\n",
    "\n",
    "The regular representation of the SO(3) lie group is just its usual group action: the product of 3 3D rotation matrices $R_z(\\alpha)R_y(\\beta)R_z(\\gamma)$ where $\\alpha, \\beta, \\gamma \\in [0, 2\\pi]$ and the matrices are defined above.\n",
    "\n",
    "```"
   ]
  },
  {
   "cell_type": "markdown",
   "metadata": {
    "tags": [
     "remove-cell"
    ]
   },
   "source": [
    "How do we show that p4m group is just a sum over group. I don't think we need the complete group representation right? It's an induced action? https://planetmath.org/inducedrepresentation? We want the representation on rot/mirror - something like representation of g acting on f(x) is $\\rho(h(g^{-1}, x)^{-1})f(g^{-1}x)$ where $h$ at $(g^{-1}x)$ is like finding the h at that point. Wait -- maybe we don't need this, we can just read off the restricted convolutiosn from kondor paper -- yes. also, we shouuld define group action earlier and then this section will make more sense "
   ]
  },
  {
   "cell_type": "markdown",
   "metadata": {},
   "source": [
    "### Irreducible representations\n",
    "\n",
    "These representations that both describe the group action and how group elements affect on another are typically **reducible**, meaning if you drop the requirement that they also describe group action they can be simplified. The process of reducing representations is again a topic best left to another reference and/or looked-up. These irreducible representations are like orthonormal basis-functions or basis-vectors from Hilbert spaces. We'll use them for Fourier transforms in a moment. One important fact you should know is that they can be complex and if a group is non-abelian there will be matrices. That means the individual representations can have different dimensions. From now on, I will only continue the locally compact examples since we already saw how to easily treat finite groups. \n",
    "\n",
    "\n",
    "\n",
    "\n",
    "\n"
   ]
  },
  {
   "cell_type": "markdown",
   "metadata": {
    "tags": [
     "remove-cell"
    ]
   },
   "source": [
    "Intro video: https://www.youtube.com/watch?v=mH0oCDa74tE\n",
    "\n",
    "Convolutions are only way to go: https://arxiv.org/abs/1806.09231\n",
    "\n",
    "homogenuous -> you can reach any point with a group. \n",
    "\n",
    "best theory (I think) https://arxiv.org/pdf/1802.03690.pdf\n",
    "similar but with fiber bundles/cosets -> https://arxiv.org/pdf/1811.02017.pdf\n",
    "\n",
    "induced action -> group element acting on function. Induced space -> space of that (?)\n",
    "\n",
    "\n",
    "some people say covariant -> group element on input != group element on output\n",
    "\n",
    "Let's start with G-CNN which I'm having trouble understanding:\n",
    "\n",
    "Presentation on locally compact groups -> https://galton.uchicago.edu/mart/slides/Kondor_Fourier.pdf\n",
    "\n",
    "commutative -> representations are complex scalars (FFT is easy). Called LCA (locally compact abelian)     \n",
    "\n",
    "$$\n",
    "[f * \\psi](g) = \\frac{1}{|G|}\\sum_{x}\n",
    "$$"
   ]
  },
  {
   "cell_type": "markdown",
   "metadata": {
    "tags": [
     "remove-cell"
    ]
   },
   "source": [
    "## Outline\n",
    "\n",
    "Maybe start with finite group, conclude with G-CNN \n",
    "\n",
    "Then move to compact groups\n",
    "\n",
    "then move to permutations\n",
    "\n",
    "1. Finite Groups and use molecular structure example  https://en.wikipedia.org/wiki/Molecular_symmetry\n",
    "2. Representations, irreps -- finding them https://www.jstor.org/stable/2004848?seq=1#metadata_info_tab_contents, https://en.wikipedia.org/wiki/Group_representation, character tables - https://www.chem.uci.edu/~lawm/10-2.pdf package: https://gemmi.readthedocs.io/en/latest/symmetry.html#operations - does not include permutation symmetry\n",
    "3. functions on them -> an image is a function, molecular coordiates are a function, we're learning a function (?)Does that mean layers are operators? Guess so\n",
    "4. define equivariance \n",
    "5. equivariant neuron - Show group CNN first, then Kondor construction\n",
    "6. examples\n",
    "7. survey of field\n",
    "8. meta learning these: https://arxiv.org/pdf/2007.02933.pdf"
   ]
  },
  {
   "cell_type": "markdown",
   "metadata": {
    "tags": [
     "remove-cell"
    ]
   },
   "source": [
    "G-CNN - easy for discrete groups. http://proceedings.mlr.press/v48/cohenc16.pdf\n",
    "could use for all point groups too - depends on number of group elements. \n",
    "\n",
    "DeepSets - https://proceedings.neurips.cc/paper/2017/file/f22e4747da1aa27e363d86d40ff442fe-Paper.pdf\n",
    "equivariant strategy for networks. This defines them using convolutions - https://arxiv.org/pdf/2004.03990.pdf. Here is the hierarchical variant: https://proceedings.neurips.cc//paper_files/paper/2020/hash/9efb1a59d7b58e69996cf0e32cb71098-Abstract.html - they use MLPs with weight sharing. Is that equivalent to group convolutions? Average over groups strategy -> equation 44 in https://arxiv.org/pdf/2004.05154.pdf. Maybe average over groups = convolution (aka correlation). Yes, it does. However, you do not have to average. You can keep each independent component. The averaging comes from the pooling. Averaging moves to a coset (removing a part of the group) and moves you to a quoteint space (see 6.5 in G-CNN ppaer). \n",
    "\n",
    "Icosohedron convs enforce weight sharing in their convolutions - https://arxiv.org/pdf/1902.04615.pdf\n",
    "\n",
    "The Clepsh-Gordon approach doesn't use a convolution, but instead a product in spectral (fourier) space. \n",
    "\n",
    "Fiber bundles and fields intro. Proves convolutions are only way to do it. \n",
    "\n",
    "https://arxiv.org/pdf/1811.02017.pdf\n",
    "\n",
    "Notation - you can refer to the irreducible representations of SO3 (momentum numbers, l = ) as fragments\n",
    "\n",
    "ok modern permutation invariant -> https://arxiv.org/pdf/2004.03990.pdf. Maybe not that interesting (second order permutations are interesting), but reconciles the locally compact groups being fourier convolutions with permutations. \n",
    "\n",
    "Can approximate convolutions with quadrature (MC integration) https://arxiv.org/pdf/2002.12880.pdf instead of using Fourier Space"
   ]
  },
  {
   "cell_type": "code",
   "execution_count": 39,
   "metadata": {
    "tags": [
     "remove-cell"
    ]
   },
   "outputs": [
    {
     "data": {
      "application/papermill.record/image/png": "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\n",
      "application/papermill.record/text/plain": "<Figure size 72x72 with 1 Axes>"
     },
     "metadata": {
      "scrapbook": {
       "mime_prefix": "application/papermill.record/",
       "name": "hex-0"
      }
     },
     "output_type": "display_data"
    },
    {
     "data": {
      "application/papermill.record/image/png": "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\n",
      "application/papermill.record/text/plain": "<Figure size 72x72 with 1 Axes>"
     },
     "metadata": {
      "scrapbook": {
       "mime_prefix": "application/papermill.record/",
       "name": "hex-1"
      }
     },
     "output_type": "display_data"
    },
    {
     "data": {
      "application/papermill.record/image/png": "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\n",
      "application/papermill.record/text/plain": "<Figure size 72x72 with 1 Axes>"
     },
     "metadata": {
      "scrapbook": {
       "mime_prefix": "application/papermill.record/",
       "name": "hex-2"
      }
     },
     "output_type": "display_data"
    },
    {
     "data": {
      "application/papermill.record/image/png": "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\n",
      "application/papermill.record/text/plain": "<Figure size 72x72 with 1 Axes>"
     },
     "metadata": {
      "scrapbook": {
       "mime_prefix": "application/papermill.record/",
       "name": "hex-3"
      }
     },
     "output_type": "display_data"
    },
    {
     "data": {
      "application/papermill.record/image/png": "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\n",
      "application/papermill.record/text/plain": "<Figure size 72x72 with 1 Axes>"
     },
     "metadata": {
      "scrapbook": {
       "mime_prefix": "application/papermill.record/",
       "name": "hex-4"
      }
     },
     "output_type": "display_data"
    },
    {
     "data": {
      "application/papermill.record/image/png": "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\n",
      "application/papermill.record/text/plain": "<Figure size 72x72 with 1 Axes>"
     },
     "metadata": {
      "scrapbook": {
       "mime_prefix": "application/papermill.record/",
       "name": "hex-5"
      }
     },
     "output_type": "display_data"
    },
    {
     "data": {
      "application/papermill.record/image/png": "iVBORw0KGgoAAAANSUhEUgAAAEYAAABECAYAAAA85kOPAAAAOXRFWHRTb2Z0d2FyZQBNYXRwbG90bGliIHZlcnNpb24zLjMuMiwgaHR0cHM6Ly9tYXRwbG90bGliLm9yZy8vihELAAAACXBIWXMAAAsTAAALEwEAmpwYAAAFEklEQVR4nO2bQUjbXhzHf4mtbol2a0pAdAUvym5iweFR6FlwMGFHQXdQBmNs3iz04A5eGoRddhgoVPAiKHqUITh2G+zgYSuKiIoMpWON6UZt3vd/GO1fbV5batKELR/w4kv7vu+b93755fdeBQDkU4notgCv4hvDwTeGg28MB98YDoEa7X/7I0vgNfgzhoNvDAffGA6eMYYxRrquE2PMbSlE5AFjAJCmaaSqKimKQqqqkqZp5PqrCoBqf46TSqUgSRLozxMQRARJkqBpWjO6545dQPU74+htY4yRqqqUzWYr2hRFobOzMxJFRye1Nx/XhmHQz58/LdtyuRzl8/kmK/of14w5Ojqi6elpMk2Te823b9+aqOgG1daZE4ta13UkEgncvXsXbW1tiMfjFTGmtbUVkiRBEASMj4/j5OTECSlAlbE3zZhisYj379+js7MTRISnT5/i4OAAjDFomgZFURAIBKAoCjRNQzabxczMTNmkZDKJi4sLOyUBbhuztbWF/v5+EBGGhobw6dOnimtM04Su6zBN89r/9/b28OTJExARuru7sbS0VHHNLXDHmK9fv2JkZAREhJ6eHqysrIAx1tB37ezsYHBwEESEWCyG7e3t28oDnDbGNE3kcrnynTw7O8Pz588RCATQ0dGB+fl5/Pr169ajME0Ty8vLiEajICKMjo4ik8lwddSBM8YwxpBKpcrxIRwOY2RkBKFQCKIoYmpqCt+/f69/5HWSz+fx5s0btLe3IxAI4MWLF5ibm7sWp1KpVD2z0xljrLJWIsLDhw+xu7vb8MDr5fT0FM+ePavon+rPnu03xjRNKIpiKUpRFDsDZFVM08S9e/ca1cEde8MJnmEYlMvlLNuambUahkGGYdiuo2FjZFmmUChk2RYKhUiSpEa/2hM6GjZGFEWanZ2t6FiWZUokEk6//Dmvo9o6q7W+S1mrIAgQRbGctTaaqzRKSYcsyyAi3L9/v14dzuYxqqpiYmKiaQGXx7t370BEODw8rPcj9gffqwiCQMFgsGnLh0epfzt0uF7a9Cq+MRx8Yzj4xnDwjeHgG8PBN4aDbwwH3xgOthgDgAqFgusb8qX+bdFR7X2h1otGqbR59SWyzpKirZR0XH2J9Fxps4kb8nbo+LtLm7fQ8XeXNp3Q4UhpMxgMkiBwT1jYBmOMVldXuQcDblVirTadak1jq7Xd0tICIkI0GkU6nXZsSW1vbyMWi5X7unPnzjUdsiy7E2MAcDfkP3z4gIGBARARHj16hI8fPzY6/goymQweP34MIsKDBw+QTqdRLBYtdbhe2rTakDdNE4uLi+jq6gIRYWxsDPv7+/U7cINsNouXL18iGAxClmXMzc3BMIyaOmrgrDHVuLi4QDKZhCRJaG1txevXr/Hjx4+6P18oFLCwsABFUSAIAiYnJ3F6emqHNMBNY0ocHx9jfHwcgiAgEong7du3KBQK5fabG/KMMayvr6Ovrw9EhHg8ji9fvtgpCfCCMSU+f/6M4eHh8h73xsbGtYMBiqLg1atX167Z3Nx0Kpv2jjHAn9mwtraG3t5eEBFEUbTclL85qxyAO3ZXj7P+/v2bIpGIZRIWDofp/Pz83zzOenl5SYVCwbJN1/V/8zgrkXcOBljhqjFeORhgSbUA5GTUK8HLnptU0/Fm8L0KY4zy+TxJktTMmcINvp4xxiW8+VTyMr4xHGr9vNj5apNH8WcMB98YDr4xHHxjOPjGcPCN4fAfL9Ahd9JUkCsAAAAASUVORK5CYII=\n",
      "application/papermill.record/text/plain": "<Figure size 72x72 with 1 Axes>"
     },
     "metadata": {
      "scrapbook": {
       "mime_prefix": "application/papermill.record/",
       "name": "hex-6"
      }
     },
     "output_type": "display_data"
    },
    {
     "name": "stdout",
     "output_type": "stream",
     "text": [
      "0 0\n"
     ]
    },
    {
     "data": {
      "application/papermill.record/image/png": "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\n",
      "application/papermill.record/text/plain": "<Figure size 72x72 with 1 Axes>"
     },
     "metadata": {
      "scrapbook": {
       "mime_prefix": "application/papermill.record/",
       "name": "quad-0-0"
      }
     },
     "output_type": "display_data"
    },
    {
     "name": "stdout",
     "output_type": "stream",
     "text": [
      "0 1\n"
     ]
    },
    {
     "data": {
      "application/papermill.record/image/png": "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\n",
      "application/papermill.record/text/plain": "<Figure size 72x72 with 1 Axes>"
     },
     "metadata": {
      "scrapbook": {
       "mime_prefix": "application/papermill.record/",
       "name": "quad-0-1"
      }
     },
     "output_type": "display_data"
    },
    {
     "name": "stdout",
     "output_type": "stream",
     "text": [
      "1 0\n"
     ]
    },
    {
     "data": {
      "application/papermill.record/image/png": "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\n",
      "application/papermill.record/text/plain": "<Figure size 72x72 with 1 Axes>"
     },
     "metadata": {
      "scrapbook": {
       "mime_prefix": "application/papermill.record/",
       "name": "quad-1-0"
      }
     },
     "output_type": "display_data"
    },
    {
     "name": "stdout",
     "output_type": "stream",
     "text": [
      "1 1\n"
     ]
    },
    {
     "data": {
      "application/papermill.record/image/png": "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\n",
      "application/papermill.record/text/plain": "<Figure size 72x72 with 1 Axes>"
     },
     "metadata": {
      "scrapbook": {
       "mime_prefix": "application/papermill.record/",
       "name": "quad-1-1"
      }
     },
     "output_type": "display_data"
    },
    {
     "name": "stdout",
     "output_type": "stream",
     "text": [
      "2 0\n"
     ]
    },
    {
     "data": {
      "application/papermill.record/image/png": "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\n",
      "application/papermill.record/text/plain": "<Figure size 72x72 with 1 Axes>"
     },
     "metadata": {
      "scrapbook": {
       "mime_prefix": "application/papermill.record/",
       "name": "quad-2-0"
      }
     },
     "output_type": "display_data"
    },
    {
     "name": "stdout",
     "output_type": "stream",
     "text": [
      "2 1\n"
     ]
    },
    {
     "data": {
      "application/papermill.record/image/png": "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\n",
      "application/papermill.record/text/plain": "<Figure size 72x72 with 1 Axes>"
     },
     "metadata": {
      "scrapbook": {
       "mime_prefix": "application/papermill.record/",
       "name": "quad-2-1"
      }
     },
     "output_type": "display_data"
    },
    {
     "name": "stdout",
     "output_type": "stream",
     "text": [
      "3 0\n"
     ]
    },
    {
     "data": {
      "application/papermill.record/image/png": "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\n",
      "application/papermill.record/text/plain": "<Figure size 72x72 with 1 Axes>"
     },
     "metadata": {
      "scrapbook": {
       "mime_prefix": "application/papermill.record/",
       "name": "quad-3-0"
      }
     },
     "output_type": "display_data"
    },
    {
     "name": "stdout",
     "output_type": "stream",
     "text": [
      "3 1\n"
     ]
    },
    {
     "data": {
      "application/papermill.record/image/png": "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\n",
      "application/papermill.record/text/plain": "<Figure size 72x72 with 1 Axes>"
     },
     "metadata": {
      "scrapbook": {
       "mime_prefix": "application/papermill.record/",
       "name": "quad-3-1"
      }
     },
     "output_type": "display_data"
    },
    {
     "data": {
      "image/png": "[encoded data removed]",
      "text/plain": [
       "<Figure size 72x72 with 1 Axes>"
      ]
     },
     "metadata": {},
     "output_type": "display_data"
    },
    {
     "data": {
      "image/png": "[encoded data removed]",
      "text/plain": [
       "<Figure size 72x72 with 1 Axes>"
      ]
     },
     "metadata": {},
     "output_type": "display_data"
    },
    {
     "data": {
      "image/png": "[encoded data removed]",
      "text/plain": [
       "<Figure size 72x72 with 1 Axes>"
      ]
     },
     "metadata": {},
     "output_type": "display_data"
    },
    {
     "data": {
      "image/png": "[encoded data removed]",
      "text/plain": [
       "<Figure size 72x72 with 1 Axes>"
      ]
     },
     "metadata": {},
     "output_type": "display_data"
    },
    {
     "data": {
      "image/png": "[encoded data removed]",
      "text/plain": [
       "<Figure size 72x72 with 1 Axes>"
      ]
     },
     "metadata": {},
     "output_type": "display_data"
    },
    {
     "data": {
      "image/png": "[encoded data removed]",
      "text/plain": [
       "<Figure size 72x72 with 1 Axes>"
      ]
     },
     "metadata": {},
     "output_type": "display_data"
    },
    {
     "data": {
      "image/png": "[encoded data removed]",
      "text/plain": [
       "<Figure size 72x72 with 1 Axes>"
      ]
     },
     "metadata": {},
     "output_type": "display_data"
    },
    {
     "data": {
      "image/png": "[encoded data removed]",
      "text/plain": [
       "<Figure size 72x72 with 1 Axes>"
      ]
     },
     "metadata": {},
     "output_type": "display_data"
    },
    {
     "data": {
      "image/png": "[encoded data removed]",
      "text/plain": [
       "<Figure size 72x72 with 1 Axes>"
      ]
     },
     "metadata": {},
     "output_type": "display_data"
    },
    {
     "data": {
      "image/png": "[encoded data removed]",
      "text/plain": [
       "<Figure size 72x72 with 1 Axes>"
      ]
     },
     "metadata": {},
     "output_type": "display_data"
    },
    {
     "data": {
      "image/png": "[encoded data removed]",
      "text/plain": [
       "<Figure size 72x72 with 1 Axes>"
      ]
     },
     "metadata": {},
     "output_type": "display_data"
    },
    {
     "data": {
      "image/png": "[encoded data removed]",
      "text/plain": [
       "<Figure size 72x72 with 1 Axes>"
      ]
     },
     "metadata": {},
     "output_type": "display_data"
    },
    {
     "data": {
      "image/png": "[encoded data removed]",
      "text/plain": [
       "<Figure size 72x72 with 1 Axes>"
      ]
     },
     "metadata": {},
     "output_type": "display_data"
    },
    {
     "data": {
      "image/png": "[encoded data removed]",
      "text/plain": [
       "<Figure size 72x72 with 1 Axes>"
      ]
     },
     "metadata": {},
     "output_type": "display_data"
    },
    {
     "data": {
      "image/png": "[encoded data removed]",
      "text/plain": [
       "<Figure size 72x72 with 1 Axes>"
      ]
     },
     "metadata": {},
     "output_type": "display_data"
    }
   ],
   "source": [
    "from myst_nb import glue\n",
    "\n",
    "def hexico(rot):\n",
    "    cmap = plt.get_cmap('Set2')        \n",
    "    colors = [cmap(i / 6) for i in range(6)]\n",
    "    points = np.array([(0,1), (0.5 * np.sqrt(3), 0.5), (0.5 * np.sqrt(3), -0.5), (0, -1), (-0.5 * np.sqrt(3), -0.5), (-0.5 * np.sqrt(3), 0.5)])\n",
    "    # wrap the points\n",
    "    index = [(i + rot) % 6 for i in range(6)]\n",
    "    points = points[index]\n",
    "    plt.figure(figsize=(1, 1))        \n",
    "    if rot == 6:\n",
    "        plt.scatter(points[:,0], points[:,1], marker='.', color='black', s=150)\n",
    "    else:\n",
    "        plt.scatter(points[:,0], points[:,1], marker='o', c=colors, s=150)\n",
    "        plt.plot([0, points[0,0]], [0, points[0, 1]], color='black', zorder=0)    \n",
    "        \n",
    "    plt.plot(points[:, 0], points[:, 1], color='black', zorder=0)\n",
    "    plt.plot([points[-1, 0], points[0, 0]],  [points[-1, 1], points[0, 1]], color='black', zorder=0)\n",
    "    plt.xticks([])\n",
    "    plt.yticks([])\n",
    "    plt.xlim(-1.4, 1.4)\n",
    "    plt.ylim(-1.4, 1.4)    \n",
    "    for s in plt.gca().spines.values():\n",
    "        s.set_visible(False)\n",
    "    glue(f'hex-{rot}', plt.gcf(), display=False)\n",
    "for i in range(7):\n",
    "    hexico(i)\n",
    "    \n",
    "def quad(rot, mirror):\n",
    "    colors = color_cycle[:4]\n",
    "    points = np.array([(1, 1), (-1, 1), (-1, -1), (1, -1)])\n",
    "    if mirror:\n",
    "        points[:,0] *= -1\n",
    "    # wrap the points\n",
    "    index = [(i + rot) % 4 for i in range(4)]\n",
    "    points = points[index]\n",
    "    plt.figure(figsize=(1, 1))        \n",
    "    plt.scatter(points[:,0], points[:,1], marker='o', c=colors, s=150)\n",
    "    plt.plot([0, points[0,0]], [0, points[0, 1]], color='black', zorder=0)    \n",
    "        \n",
    "    plt.plot(points[:, 0], points[:, 1], color='black', zorder=0)\n",
    "    plt.plot([points[-1, 0], points[0, 0]],  [points[-1, 1], points[0, 1]], color='C0', zorder=0)\n",
    "    plt.plot([0, points[1, 0]],  [0, points[1, 1]], linestyle='-', color='C1', zorder=0)\n",
    "    plt.xticks([])\n",
    "    plt.yticks([])\n",
    "    plt.xlim(-1.4, 1.4)\n",
    "    plt.ylim(-1.4, 1.4)    \n",
    "    for s in plt.gca().spines.values():\n",
    "        s.set_visible(False)\n",
    "    print(rot, mirror)\n",
    "    glue(f'quad-{rot}-{mirror}', plt.gcf(), display=False)\n",
    "for i in range(4):\n",
    "    for j in range(2):\n",
    "        quad(i, j)"
   ]
  },
  {
   "cell_type": "markdown",
   "metadata": {},
   "source": [
    "## Cited References\n",
    "\n",
    "```{bibliography} references.bib\n",
    "```"
   ]
  }
 ],
 "metadata": {
  "celltoolbar": "Tags",
  "kernelspec": {
   "display_name": "Python 3",
   "language": "python",
   "name": "python3"
  },
  "language_info": {
   "codemirror_mode": {
    "name": "ipython",
    "version": 3
   },
   "file_extension": ".py",
   "mimetype": "text/x-python",
   "name": "python",
   "nbconvert_exporter": "python",
   "pygments_lexer": "ipython3",
   "version": "3.8.5"
  }
 },
 "nbformat": 4,
 "nbformat_minor": 4
}
